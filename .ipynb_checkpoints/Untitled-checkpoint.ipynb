{
 "cells": [
  {
   "cell_type": "code",
   "execution_count": null,
   "id": "05f198a4",
   "metadata": {},
   "outputs": [],
   "source": [
    "\n",
    "df = pd.read_csv('C:/Users/LM272782/Documents/Energyscope/FRANCE/Version_Python/case_studies/ref_run/output/output_file.csv', delimiter =';', index_col=False)\n",
    "del df['\\n']\n",
    "# Display the DataFrame\n",
    "#print(df, df['Tech'])\n",
    "df2 = pd.DataFrame(columns=['source', 'target', 'real_value'])\n",
    "for i in df['Tech']:\n",
    "    dfi = df[df['Tech']==i]\n",
    "    \n",
    "    #print(i, dfi[dfi!=0].dropna(axis=1))\n",
    "    dfi2 = dfi[dfi!=0].dropna(axis=1)\n",
    "    for col in dfi2:\n",
    "        #print('col',col)\n",
    "        if col != 'Tech':\n",
    "            #print(dfi2, dfi2[col])\n",
    "            VAL = dfi2[col].item()#dfi2[col]\n",
    "            print(VAL)\n",
    "            #print(dfi2, '1',VAL,'2', dfi2.loc[0, col])\n",
    "            if VAL >=0:\n",
    "                SOURCE, TARGET, VALUE = dfi2['Tech'].item(), col, VAL\n",
    "            else:\n",
    "                SOURCE, TARGET, VALUE = col, dfi2['Tech'].item(), -VAL\n",
    "            df2 = df2.append({'source': SOURCE, 'target': TARGET, 'realValue': VALUE}, ignore_index=True)\n",
    "print(df2)\n",
    "df2.to_csv('C:/Users/LM272782/Documents/Energyscope/FRANCE/Version_Python/case_studies/ref_run/output/sankey.csv', index=False, header=True)\n",
    "pc.sankey_plot('C:/Users/LM272782/Documents/Energyscope/FRANCE/Version_Python/case_studies/ref_run/output/sankey.csv')"
   ]
  },
  {
   "cell_type": "code",
   "execution_count": 1,
   "id": "3b30d0e4",
   "metadata": {},
   "outputs": [
    {
     "name": "stderr",
     "output_type": "stream",
     "text": [
      "WARNING:root:The colored console output is failing (possibly because of ipython). Switching to monochromatic output\n"
     ]
    },
    {
     "name": "stdout",
     "output_type": "stream",
     "text": [
      "Could not erase previous log file 2023-05-22_17-21-21.911271.energyscope.log\n"
     ]
    },
    {
     "name": "stderr",
     "output_type": "stream",
     "text": [
      "[INFO    ] (_init_num_threads): NumExpr defaulting to 8 threads.\n"
     ]
    },
    {
     "ename": "NameError",
     "evalue": "name '__file__' is not defined",
     "output_type": "error",
     "traceback": [
      "\u001b[1;31m---------------------------------------------------------------------------\u001b[0m",
      "\u001b[1;31mNameError\u001b[0m                                 Traceback (most recent call last)",
      "\u001b[1;32m~\\AppData\\Local\\Temp\\ipykernel_26104\\469689996.py\u001b[0m in \u001b[0;36m<module>\u001b[1;34m\u001b[0m\n\u001b[0;32m     18\u001b[0m \u001b[1;33m\u001b[0m\u001b[0m\n\u001b[0;32m     19\u001b[0m         \u001b[1;31m# define project path\u001b[0m\u001b[1;33m\u001b[0m\u001b[1;33m\u001b[0m\u001b[0m\n\u001b[1;32m---> 20\u001b[1;33m         \u001b[0mproject_path\u001b[0m \u001b[1;33m=\u001b[0m \u001b[0mPath\u001b[0m\u001b[1;33m(\u001b[0m\u001b[0m__file__\u001b[0m\u001b[1;33m)\u001b[0m\u001b[1;33m.\u001b[0m\u001b[0mparents\u001b[0m\u001b[1;33m[\u001b[0m\u001b[1;36m1\u001b[0m\u001b[1;33m]\u001b[0m\u001b[1;33m\u001b[0m\u001b[1;33m\u001b[0m\u001b[0m\n\u001b[0m\u001b[0;32m     21\u001b[0m \u001b[1;33m\u001b[0m\u001b[0m\n\u001b[0;32m     22\u001b[0m         \u001b[1;31m# loading the config file into a python dictionnary\u001b[0m\u001b[1;33m\u001b[0m\u001b[1;33m\u001b[0m\u001b[0m\n",
      "\u001b[1;31mNameError\u001b[0m: name '__file__' is not defined"
     ]
    }
   ],
   "source": [
    "import os\n",
    "from pathlib import Path\n",
    "import energyscope as es\n",
    "import matplotlib.pyplot as plt\n",
    "import plotly.express as px\n",
    "import plotly.graph_objects as go\n",
    "import pandas as pd\n",
    "import warnings\n",
    "warnings.filterwarnings(\"ignore\")\n",
    "\n",
    "analysis_sensibility_only = False\n",
    "\n",
    "if not analysis_sensibility_only:\n",
    "    OUTPUTS = []\n",
    "    for GWP_limit in range(0, 110000, 50000):\n",
    "        analysis_only= True\n",
    "        compute_TDs = True\n",
    "\n",
    "        # define project path\n",
    "        project_path = os.getcwd()# Path(__file__).parents[1]\n",
    "\n",
    "        # loading the config file into a python dictionnary\n",
    "        config = es.load_config(config_fn='config_ref.yaml', project_path=project_path)\n",
    "        config['GWP_limit'] = str(GWP_limit) + ';'\n",
    "        config['case_study'] = 'GWP_limit=' + str(GWP_limit)\n",
    "        config['Working_directory'] = os.getcwd() # keeping current working directory into config\n",
    "        \n",
    "    # Reading the data of the csv\n",
    "        es.import_data(config)\n",
    "\n",
    "        if compute_TDs:\n",
    "            es.build_td_of_days(config)\n",
    "    \n",
    "        if not analysis_only:\n",
    "            # Printing the .dat files for the optimisation problem       \n",
    "            es.print_data(config)\n",
    "\n",
    "            # Running EnergyScope\n",
    "            es.run_es(config)\n",
    "\n",
    "        # Example to print the sankey from this script\n",
    "        if config['print_sankey']:\n",
    "            #sankey_path = config['cs_path']/ config['case_study'] / 'output' / 'sankey'\n",
    "            #es.drawSankey(path=sankey_path)\n",
    "            fig = es.Sankey_plot('C:/Users/LM272782/Documents/Energyscope/FRANCE/Version_Python_Carbone/case_studies/' + config['case_study'] + '/output')\n",
    "            fig.show()\n",
    "            fig = es.Sankey_carbon('C:/Users/LM272782/Documents/Energyscope/FRANCE/Version_Python_Carbone/case_studies/' + config['case_study'] + '/output')\n",
    "            fig.show()\n",
    "            print(1)\n",
    "\n",
    "        # Reading outputs\n",
    "        #outputs = es.read_outputs(config['case_study'], hourly_data=True, layers=['layer_ELECTRICITY','layer_HEAT_LOW_T_DECEN'])\n",
    "        \n",
    "        outputs = es.read_outputs(config['case_study'], hourly_data=True, layers=['layer_ELECTRICITY','layer_HEAT_LOW_T_DECEN','layer_HEAT_LOW_T_DHN', 'layer_HEAT_HIGH_T', 'layer_AMMONIA', 'layer_H2'])\n",
    "        outputs['GWP_limit'] = GWP_limit\n",
    "        print(outputs)\n",
    "        OUTPUTS.append(outputs)\n",
    "       \n",
    "#for i in range(0,3):\n",
    "#print(pd.concat([OUTPUTS[0], OUTPUTS[1]], keys='GWP_limit'))   \n",
    "#px.line(OUT)"
   ]
  },
  {
   "cell_type": "code",
   "execution_count": null,
   "id": "73109093",
   "metadata": {},
   "outputs": [],
   "source": [
    "print(pd.concat([OUTPUTS[0], OUTPUTS[1]], keys='GWP_limit')) "
   ]
  }
 ],
 "metadata": {
  "kernelspec": {
   "display_name": "Python 3 (ipykernel)",
   "language": "python",
   "name": "python3"
  },
  "language_info": {
   "codemirror_mode": {
    "name": "ipython",
    "version": 3
   },
   "file_extension": ".py",
   "mimetype": "text/x-python",
   "name": "python",
   "nbconvert_exporter": "python",
   "pygments_lexer": "ipython3",
   "version": "3.9.13"
  }
 },
 "nbformat": 4,
 "nbformat_minor": 5
}
