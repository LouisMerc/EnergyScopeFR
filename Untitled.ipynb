{
 "cells": [
  {
   "cell_type": "code",
   "execution_count": null,
   "id": "05f198a4",
   "metadata": {},
   "outputs": [],
   "source": [
    "\n",
    "df = pd.read_csv('C:/Users/LM272782/Documents/Energyscope/FRANCE/Version_Python/case_studies/ref_run/output/output_file.csv', delimiter =';', index_col=False)\n",
    "del df['\\n']\n",
    "# Display the DataFrame\n",
    "#print(df, df['Tech'])\n",
    "df2 = pd.DataFrame(columns=['source', 'target', 'real_value'])\n",
    "for i in df['Tech']:\n",
    "    dfi = df[df['Tech']==i]\n",
    "    \n",
    "    #print(i, dfi[dfi!=0].dropna(axis=1))\n",
    "    dfi2 = dfi[dfi!=0].dropna(axis=1)\n",
    "    for col in dfi2:\n",
    "        #print('col',col)\n",
    "        if col != 'Tech':\n",
    "            #print(dfi2, dfi2[col])\n",
    "            VAL = dfi2[col].item()#dfi2[col]\n",
    "            print(VAL)\n",
    "            #print(dfi2, '1',VAL,'2', dfi2.loc[0, col])\n",
    "            if VAL >=0:\n",
    "                SOURCE, TARGET, VALUE = dfi2['Tech'].item(), col, VAL\n",
    "            else:\n",
    "                SOURCE, TARGET, VALUE = col, dfi2['Tech'].item(), -VAL\n",
    "            df2 = df2.append({'source': SOURCE, 'target': TARGET, 'realValue': VALUE}, ignore_index=True)\n",
    "print(df2)\n",
    "df2.to_csv('C:/Users/LM272782/Documents/Energyscope/FRANCE/Version_Python/case_studies/ref_run/output/sankey.csv', index=False, header=True)\n",
    "pc.sankey_plot('C:/Users/LM272782/Documents/Energyscope/FRANCE/Version_Python/case_studies/ref_run/output/sankey.csv')"
   ]
  },
  {
   "cell_type": "code",
   "execution_count": 3,
   "id": "10b559a0",
   "metadata": {},
   "outputs": [
    {
     "ename": "TypeError",
     "evalue": "unsupported operand type(s) for /: 'str' and 'str'",
     "output_type": "error",
     "traceback": [
      "\u001b[1;31m---------------------------------------------------------------------------\u001b[0m",
      "\u001b[1;31mTypeError\u001b[0m                                 Traceback (most recent call last)",
      "\u001b[1;32m~\\AppData\\Local\\Temp\\ipykernel_26104\\3143900246.py\u001b[0m in \u001b[0;36m<module>\u001b[1;34m\u001b[0m\n\u001b[0;32m     21\u001b[0m \u001b[1;33m\u001b[0m\u001b[0m\n\u001b[0;32m     22\u001b[0m         \u001b[1;31m# loading the config file into a python dictionnary\u001b[0m\u001b[1;33m\u001b[0m\u001b[1;33m\u001b[0m\u001b[0m\n\u001b[1;32m---> 23\u001b[1;33m         \u001b[0mconfig\u001b[0m \u001b[1;33m=\u001b[0m \u001b[0mes\u001b[0m\u001b[1;33m.\u001b[0m\u001b[0mload_config\u001b[0m\u001b[1;33m(\u001b[0m\u001b[0mconfig_fn\u001b[0m\u001b[1;33m=\u001b[0m\u001b[1;34m'config_ref.yaml'\u001b[0m\u001b[1;33m,\u001b[0m \u001b[0mproject_path\u001b[0m\u001b[1;33m=\u001b[0m\u001b[0mproject_path\u001b[0m\u001b[1;33m)\u001b[0m\u001b[1;33m\u001b[0m\u001b[1;33m\u001b[0m\u001b[0m\n\u001b[0m\u001b[0;32m     24\u001b[0m         \u001b[0mconfig\u001b[0m\u001b[1;33m[\u001b[0m\u001b[1;34m'GWP_limit'\u001b[0m\u001b[1;33m]\u001b[0m \u001b[1;33m=\u001b[0m \u001b[0mstr\u001b[0m\u001b[1;33m(\u001b[0m\u001b[0mGWP_limit\u001b[0m\u001b[1;33m)\u001b[0m \u001b[1;33m+\u001b[0m \u001b[1;34m';'\u001b[0m\u001b[1;33m\u001b[0m\u001b[1;33m\u001b[0m\u001b[0m\n\u001b[0;32m     25\u001b[0m         \u001b[0mconfig\u001b[0m\u001b[1;33m[\u001b[0m\u001b[1;34m'case_study'\u001b[0m\u001b[1;33m]\u001b[0m \u001b[1;33m=\u001b[0m \u001b[1;34m'GWP_limit='\u001b[0m \u001b[1;33m+\u001b[0m \u001b[0mstr\u001b[0m\u001b[1;33m(\u001b[0m\u001b[0mGWP_limit\u001b[0m\u001b[1;33m)\u001b[0m\u001b[1;33m\u001b[0m\u001b[1;33m\u001b[0m\u001b[0m\n",
      "\u001b[1;32m~\\Documents\\Energyscope\\FRANCE\\Version_Python_Carbone\\energyscope\\preprocessing\\es_pre\\es_read_data.py\u001b[0m in \u001b[0;36mload_config\u001b[1;34m(config_fn, project_path)\u001b[0m\n\u001b[0;32m     65\u001b[0m     \u001b[1;31m# Extend path\u001b[0m\u001b[1;33m\u001b[0m\u001b[1;33m\u001b[0m\u001b[0m\n\u001b[0;32m     66\u001b[0m     \u001b[1;32mfor\u001b[0m \u001b[0mparam\u001b[0m \u001b[1;32min\u001b[0m \u001b[1;33m[\u001b[0m\u001b[1;34m'data_dir'\u001b[0m\u001b[1;33m,\u001b[0m \u001b[1;34m'es_path'\u001b[0m\u001b[1;33m,\u001b[0m \u001b[1;34m'cs_path'\u001b[0m\u001b[1;33m,\u001b[0m \u001b[1;34m'step1_path'\u001b[0m\u001b[1;33m]\u001b[0m\u001b[1;33m:\u001b[0m\u001b[1;33m\u001b[0m\u001b[1;33m\u001b[0m\u001b[0m\n\u001b[1;32m---> 67\u001b[1;33m         \u001b[0mcfg\u001b[0m\u001b[1;33m[\u001b[0m\u001b[0mparam\u001b[0m\u001b[1;33m]\u001b[0m \u001b[1;33m=\u001b[0m \u001b[0mproject_path\u001b[0m \u001b[1;33m/\u001b[0m \u001b[0mcfg\u001b[0m\u001b[1;33m[\u001b[0m\u001b[0mparam\u001b[0m\u001b[1;33m]\u001b[0m\u001b[1;33m\u001b[0m\u001b[1;33m\u001b[0m\u001b[0m\n\u001b[0m\u001b[0;32m     68\u001b[0m \u001b[1;33m\u001b[0m\u001b[0m\n\u001b[0;32m     69\u001b[0m     \u001b[1;31m# Extend path for log_file\u001b[0m\u001b[1;33m\u001b[0m\u001b[1;33m\u001b[0m\u001b[0m\n",
      "\u001b[1;31mTypeError\u001b[0m: unsupported operand type(s) for /: 'str' and 'str'"
     ]
    }
   ],
   "source": [
    "import os\n",
    "from pathlib import Path\n",
    "import energyscope as es\n",
    "import matplotlib.pyplot as plt\n",
    "import plotly.express as px\n",
    "import plotly.graph_objects as go\n",
    "import pandas as pd\n",
    "import warnings\n",
    "warnings.filterwarnings(\"ignore\")\n",
    "\n",
    "analysis_sensibility_only = False\n",
    "\n",
    "if not analysis_sensibility_only:\n",
    "    OUTPUTS = []\n",
    "    for GWP_limit in range(0, 110000, 50000):\n",
    "        analysis_only= True\n",
    "        compute_TDs = True\n",
    "\n",
    "        # define project path\n",
    "        project_path = os.getcwd()# Path(__file__).parents[1]\n",
    "\n",
    "        # loading the config file into a python dictionnary\n",
    "        config = es.load_config(config_fn='config_ref.yaml', project_path=project_path)\n",
    "        config['GWP_limit'] = str(GWP_limit) + ';'\n",
    "        config['case_study'] = 'GWP_limit=' + str(GWP_limit)\n",
    "        config['Working_directory'] = os.getcwd() # keeping current working directory into config\n",
    "        \n",
    "    # Reading the data of the csv\n",
    "        es.import_data(config)\n",
    "\n",
    "        if compute_TDs:\n",
    "            es.build_td_of_days(config)\n",
    "    \n",
    "        if not analysis_only:\n",
    "            # Printing the .dat files for the optimisation problem       \n",
    "            es.print_data(config)\n",
    "\n",
    "            # Running EnergyScope\n",
    "            es.run_es(config)\n",
    "\n",
    "        # Example to print the sankey from this script\n",
    "        if config['print_sankey']:\n",
    "            #sankey_path = config['cs_path']/ config['case_study'] / 'output' / 'sankey'\n",
    "            #es.drawSankey(path=sankey_path)\n",
    "            fig = es.Sankey_plot('C:/Users/LM272782/Documents/Energyscope/FRANCE/Version_Python_Carbone/case_studies/' + config['case_study'] + '/output')\n",
    "            fig.show()\n",
    "            fig = es.Sankey_carbon('C:/Users/LM272782/Documents/Energyscope/FRANCE/Version_Python_Carbone/case_studies/' + config['case_study'] + '/output')\n",
    "            fig.show()\n",
    "            print(1)\n",
    "\n",
    "        # Reading outputs\n",
    "        #outputs = es.read_outputs(config['case_study'], hourly_data=True, layers=['layer_ELECTRICITY','layer_HEAT_LOW_T_DECEN'])\n",
    "        \n",
    "        outputs = es.read_outputs(config['case_study'], hourly_data=True, layers=['layer_ELECTRICITY','layer_HEAT_LOW_T_DECEN','layer_HEAT_LOW_T_DHN', 'layer_HEAT_HIGH_T', 'layer_AMMONIA', 'layer_H2'])\n",
    "        outputs['GWP_limit'] = GWP_limit\n",
    "        print(outputs)\n",
    "        OUTPUTS.append(outputs)\n",
    "       \n",
    "#for i in range(0,3):\n",
    "#print(pd.concat([OUTPUTS[0], OUTPUTS[1]], keys='GWP_limit'))   \n",
    "#px.line(OUT)"
   ]
  },
  {
   "cell_type": "code",
   "execution_count": null,
   "id": "ae460b84",
   "metadata": {},
   "outputs": [],
   "source": [
    "print(pd.concat([OUTPUTS[0], OUTPUTS[1]], keys='GWP_limit')) "
   ]
  }
 ],
 "metadata": {
  "kernelspec": {
   "display_name": "Python 3 (ipykernel)",
   "language": "python",
   "name": "python3"
  },
  "language_info": {
   "codemirror_mode": {
    "name": "ipython",
    "version": 3
   },
   "file_extension": ".py",
   "mimetype": "text/x-python",
   "name": "python",
   "nbconvert_exporter": "python",
   "pygments_lexer": "ipython3",
   "version": "3.9.13"
  }
 },
 "nbformat": 4,
 "nbformat_minor": 5
}
